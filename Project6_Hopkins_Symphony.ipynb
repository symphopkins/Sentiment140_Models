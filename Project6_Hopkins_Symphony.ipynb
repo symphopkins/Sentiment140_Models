{
 "cells": [
  {
   "cell_type": "markdown",
   "id": "2c9e3d26",
   "metadata": {},
   "source": [
    "# DSCI 614: Project 6\n",
    "\n",
    "### Symphony Hopkins\n",
    "\n",
    "## Introduction\n",
    "\n",
    "We are acting as data scientists working for a Consulting Firm. We were given a dataset containing in sentiment140.csv. The data set has six columns without header:\n",
    "+ the polarity of the tweet (0 = negative, 2 = neutral, 4 = positive)\n",
    "+ the id of the tweet (2087)\n",
    "+ the date of the tweet (Sat May 16 23:58:44 UTC 2009)\n",
    "+ the query (lyx). If there is no query, then this value is NO_QUERY.\n",
    "+ the user that tweeted (robotickilldozr)\n",
    "+ the text of the tweet (\"Lyx is cool\")\n",
    "\n",
    "Our objective to create and evaluate multiple models that can forecast the polarity of the tweets.\n",
    "\n",
    "Data Source: [Sentiment140](http://help.sentiment140.com/for-students)"
   ]
  },
  {
   "cell_type": "markdown",
   "id": "70f71a44",
   "metadata": {},
   "source": [
    "## 1. Load the dataset of sentiment140.csv into memory."
   ]
  },
  {
   "cell_type": "markdown",
   "id": "41b84484",
   "metadata": {},
   "source": [
    "Let's begin by loading the dataset into memory."
   ]
  },
  {
   "cell_type": "code",
   "execution_count": 1,
   "id": "3ad2b5d1",
   "metadata": {},
   "outputs": [],
   "source": [
    "# importing library\n",
    "import pandas as pd"
   ]
  },
  {
   "cell_type": "code",
   "execution_count": 2,
   "id": "387eae98",
   "metadata": {},
   "outputs": [
    {
     "data": {
      "text/html": [
       "<div>\n",
       "<style scoped>\n",
       "    .dataframe tbody tr th:only-of-type {\n",
       "        vertical-align: middle;\n",
       "    }\n",
       "\n",
       "    .dataframe tbody tr th {\n",
       "        vertical-align: top;\n",
       "    }\n",
       "\n",
       "    .dataframe thead th {\n",
       "        text-align: right;\n",
       "    }\n",
       "</style>\n",
       "<table border=\"1\" class=\"dataframe\">\n",
       "  <thead>\n",
       "    <tr style=\"text-align: right;\">\n",
       "      <th></th>\n",
       "      <th>0</th>\n",
       "      <th>1</th>\n",
       "      <th>2</th>\n",
       "      <th>3</th>\n",
       "      <th>4</th>\n",
       "      <th>5</th>\n",
       "    </tr>\n",
       "  </thead>\n",
       "  <tbody>\n",
       "    <tr>\n",
       "      <th>0</th>\n",
       "      <td>0</td>\n",
       "      <td>1467810369</td>\n",
       "      <td>Mon Apr 06 22:19:45 PDT 2009</td>\n",
       "      <td>NO_QUERY</td>\n",
       "      <td>_TheSpecialOne_</td>\n",
       "      <td>@switchfoot http://twitpic.com/2y1zl - Awww, t...</td>\n",
       "    </tr>\n",
       "    <tr>\n",
       "      <th>1</th>\n",
       "      <td>0</td>\n",
       "      <td>1467810672</td>\n",
       "      <td>Mon Apr 06 22:19:49 PDT 2009</td>\n",
       "      <td>NO_QUERY</td>\n",
       "      <td>scotthamilton</td>\n",
       "      <td>is upset that he can't update his Facebook by ...</td>\n",
       "    </tr>\n",
       "    <tr>\n",
       "      <th>2</th>\n",
       "      <td>0</td>\n",
       "      <td>1467810917</td>\n",
       "      <td>Mon Apr 06 22:19:53 PDT 2009</td>\n",
       "      <td>NO_QUERY</td>\n",
       "      <td>mattycus</td>\n",
       "      <td>@Kenichan I dived many times for the ball. Man...</td>\n",
       "    </tr>\n",
       "    <tr>\n",
       "      <th>3</th>\n",
       "      <td>0</td>\n",
       "      <td>1467811184</td>\n",
       "      <td>Mon Apr 06 22:19:57 PDT 2009</td>\n",
       "      <td>NO_QUERY</td>\n",
       "      <td>ElleCTF</td>\n",
       "      <td>my whole body feels itchy and like its on fire</td>\n",
       "    </tr>\n",
       "    <tr>\n",
       "      <th>4</th>\n",
       "      <td>0</td>\n",
       "      <td>1467811193</td>\n",
       "      <td>Mon Apr 06 22:19:57 PDT 2009</td>\n",
       "      <td>NO_QUERY</td>\n",
       "      <td>Karoli</td>\n",
       "      <td>@nationwideclass no, it's not behaving at all....</td>\n",
       "    </tr>\n",
       "  </tbody>\n",
       "</table>\n",
       "</div>"
      ],
      "text/plain": [
       "   0           1                             2         3                4  \\\n",
       "0  0  1467810369  Mon Apr 06 22:19:45 PDT 2009  NO_QUERY  _TheSpecialOne_   \n",
       "1  0  1467810672  Mon Apr 06 22:19:49 PDT 2009  NO_QUERY    scotthamilton   \n",
       "2  0  1467810917  Mon Apr 06 22:19:53 PDT 2009  NO_QUERY         mattycus   \n",
       "3  0  1467811184  Mon Apr 06 22:19:57 PDT 2009  NO_QUERY          ElleCTF   \n",
       "4  0  1467811193  Mon Apr 06 22:19:57 PDT 2009  NO_QUERY           Karoli   \n",
       "\n",
       "                                                   5  \n",
       "0  @switchfoot http://twitpic.com/2y1zl - Awww, t...  \n",
       "1  is upset that he can't update his Facebook by ...  \n",
       "2  @Kenichan I dived many times for the ball. Man...  \n",
       "3    my whole body feels itchy and like its on fire   \n",
       "4  @nationwideclass no, it's not behaving at all....  "
      ]
     },
     "execution_count": 2,
     "metadata": {},
     "output_type": "execute_result"
    }
   ],
   "source": [
    "# reading the file; we had to change the encoding from utf-8 to ISO-8859-1 because there were issues with encoding\n",
    "sentiment140_df = pd.read_csv(r\"sentiment140.csv\", encoding='ISO-8859-1', header=None)\n",
    "sentiment140_df.head()"
   ]
  },
  {
   "cell_type": "markdown",
   "id": "cb9dab75",
   "metadata": {},
   "source": [
    "As we can see, we have 6 columns without headers. Let's look at the shape of the dataframe."
   ]
  },
  {
   "cell_type": "code",
   "execution_count": 3,
   "id": "62612e8c",
   "metadata": {},
   "outputs": [
    {
     "data": {
      "text/plain": [
       "(1600000, 6)"
      ]
     },
     "execution_count": 3,
     "metadata": {},
     "output_type": "execute_result"
    }
   ],
   "source": [
    "# displaying shape\n",
    "sentiment140_df.shape"
   ]
  },
  {
   "cell_type": "markdown",
   "id": "9551e64e",
   "metadata": {},
   "source": [
    "We have a large dataset containing 1.6 million rows."
   ]
  },
  {
   "cell_type": "markdown",
   "id": "8e2bfe67",
   "metadata": {},
   "source": [
    "## 2. Clean and preprocess the texts."
   ]
  },
  {
   "cell_type": "markdown",
   "id": "d8aeb9ff",
   "metadata": {},
   "source": [
    "To begin, we will select all of the relevant columns into a dataframe. This will include the columns containing the polarity of the tweets (column 0) and the text of the tweets (column 5)."
   ]
  },
  {
   "cell_type": "code",
   "execution_count": 4,
   "id": "c3132bdd",
   "metadata": {},
   "outputs": [],
   "source": [
    "# selecting relevant columns\n",
    "sentiment140_df = sentiment140_df[[0,5]]"
   ]
  },
  {
   "cell_type": "markdown",
   "id": "780ff6e4",
   "metadata": {},
   "source": [
    "We will give the columns names to make them easier to identify."
   ]
  },
  {
   "cell_type": "code",
   "execution_count": 5,
   "id": "0ec06cc8",
   "metadata": {},
   "outputs": [
    {
     "data": {
      "text/html": [
       "<div>\n",
       "<style scoped>\n",
       "    .dataframe tbody tr th:only-of-type {\n",
       "        vertical-align: middle;\n",
       "    }\n",
       "\n",
       "    .dataframe tbody tr th {\n",
       "        vertical-align: top;\n",
       "    }\n",
       "\n",
       "    .dataframe thead th {\n",
       "        text-align: right;\n",
       "    }\n",
       "</style>\n",
       "<table border=\"1\" class=\"dataframe\">\n",
       "  <thead>\n",
       "    <tr style=\"text-align: right;\">\n",
       "      <th></th>\n",
       "      <th>polarity</th>\n",
       "      <th>tweet</th>\n",
       "    </tr>\n",
       "  </thead>\n",
       "  <tbody>\n",
       "    <tr>\n",
       "      <th>0</th>\n",
       "      <td>0</td>\n",
       "      <td>@switchfoot http://twitpic.com/2y1zl - Awww, t...</td>\n",
       "    </tr>\n",
       "    <tr>\n",
       "      <th>1</th>\n",
       "      <td>0</td>\n",
       "      <td>is upset that he can't update his Facebook by ...</td>\n",
       "    </tr>\n",
       "    <tr>\n",
       "      <th>2</th>\n",
       "      <td>0</td>\n",
       "      <td>@Kenichan I dived many times for the ball. Man...</td>\n",
       "    </tr>\n",
       "    <tr>\n",
       "      <th>3</th>\n",
       "      <td>0</td>\n",
       "      <td>my whole body feels itchy and like its on fire</td>\n",
       "    </tr>\n",
       "    <tr>\n",
       "      <th>4</th>\n",
       "      <td>0</td>\n",
       "      <td>@nationwideclass no, it's not behaving at all....</td>\n",
       "    </tr>\n",
       "  </tbody>\n",
       "</table>\n",
       "</div>"
      ],
      "text/plain": [
       "   polarity                                              tweet\n",
       "0         0  @switchfoot http://twitpic.com/2y1zl - Awww, t...\n",
       "1         0  is upset that he can't update his Facebook by ...\n",
       "2         0  @Kenichan I dived many times for the ball. Man...\n",
       "3         0    my whole body feels itchy and like its on fire \n",
       "4         0  @nationwideclass no, it's not behaving at all...."
      ]
     },
     "execution_count": 5,
     "metadata": {},
     "output_type": "execute_result"
    }
   ],
   "source": [
    "# renaming columns\n",
    "sentiment140_df = sentiment140_df.rename(columns={0:'polarity', 5: 'tweet'})\n",
    "sentiment140_df.head()"
   ]
  },
  {
   "cell_type": "markdown",
   "id": "eee4cac6",
   "metadata": {},
   "source": [
    "Now, we will look at the dataframe's information."
   ]
  },
  {
   "cell_type": "code",
   "execution_count": 6,
   "id": "5d3be01d",
   "metadata": {},
   "outputs": [
    {
     "name": "stdout",
     "output_type": "stream",
     "text": [
      "<class 'pandas.core.frame.DataFrame'>\n",
      "RangeIndex: 1600000 entries, 0 to 1599999\n",
      "Data columns (total 2 columns):\n",
      " #   Column    Non-Null Count    Dtype \n",
      "---  ------    --------------    ----- \n",
      " 0   polarity  1600000 non-null  int64 \n",
      " 1   tweet     1600000 non-null  object\n",
      "dtypes: int64(1), object(1)\n",
      "memory usage: 24.4+ MB\n"
     ]
    }
   ],
   "source": [
    "# displaying info\n",
    "sentiment140_df.info()"
   ]
  },
  {
   "cell_type": "markdown",
   "id": "c03be1c9",
   "metadata": {},
   "source": [
    "Next, we will check to see if there is missing data. "
   ]
  },
  {
   "cell_type": "code",
   "execution_count": 7,
   "id": "645ac1e9",
   "metadata": {},
   "outputs": [
    {
     "data": {
      "text/plain": [
       "polarity    0.0\n",
       "tweet       0.0\n",
       "dtype: float64"
      ]
     },
     "execution_count": 7,
     "metadata": {},
     "output_type": "execute_result"
    }
   ],
   "source": [
    "# checking for missing data\n",
    "sentiment140_df.isnull().sum() * 100 / len(sentiment140_df)"
   ]
  },
  {
   "cell_type": "markdown",
   "id": "6471fceb",
   "metadata": {},
   "source": [
    "Luckily, we do not have any missing data. Now, let's check the distribution of the target."
   ]
  },
  {
   "cell_type": "code",
   "execution_count": 8,
   "id": "f3046886",
   "metadata": {},
   "outputs": [
    {
     "name": "stdout",
     "output_type": "stream",
     "text": [
      "0    0.5\n",
      "4    0.5\n",
      "Name: polarity, dtype: float64\n"
     ]
    }
   ],
   "source": [
    "# checking the target distribution\n",
    "print(sentiment140_df['polarity'].value_counts(normalize=True))"
   ]
  },
  {
   "cell_type": "markdown",
   "id": "eb26bbd6",
   "metadata": {},
   "source": [
    "Out of the three possible polarity values (0 = negative, 2 = neutral, 4 = positive), we only have two that are represented in dataset. However, these values are represented equally, so for this case we will conclude that the dataset is \"balanced.\" For a balanced dataset, we can use a variety of metrics. For this project, we will rely on the accuracy metric provided by the confusion matrix and classification report.\n",
    "\n",
    "As mentioned before, we have a large dataset comprising of 1.6 million rows. To reduce the computational time required for processing the data, we will need to extract a sample. Since the target distribution is balanced, we can create two separate dataframes based on polarity for sampling. Once we draw samples from both groups, we will combine them back into a single dataframe."
   ]
  },
  {
   "cell_type": "code",
   "execution_count": 9,
   "id": "c9c4a03d",
   "metadata": {},
   "outputs": [],
   "source": [
    "# creating two separate dataframes based on the polarity of the tweets\n",
    "sentiment140_neg = sentiment140_df.loc[sentiment140_df['polarity']== 0]\n",
    "sentiment140_pos = sentiment140_df.loc[sentiment140_df['polarity']== 4]\n",
    "\n",
    "# sampling from the dataframes\n",
    "sentiment140_neg = sentiment140_neg.sample(n=1000, random_state=42)\n",
    "sentiment140_pos = sentiment140_pos.sample(n=1000, random_state=42)\n",
    "\n",
    "# concatenating the dataframes\n",
    "sentiment140_df = pd.concat([sentiment140_neg, sentiment140_pos], ignore_index=True)"
   ]
  },
  {
   "cell_type": "code",
   "execution_count": 10,
   "id": "9549063e",
   "metadata": {},
   "outputs": [
    {
     "name": "stdout",
     "output_type": "stream",
     "text": [
      "0    0.5\n",
      "4    0.5\n",
      "Name: polarity, dtype: float64\n"
     ]
    }
   ],
   "source": [
    "# checking the target distribution\n",
    "print(sentiment140_df['polarity'].value_counts(normalize=True))"
   ]
  },
  {
   "cell_type": "markdown",
   "id": "bec09654",
   "metadata": {},
   "source": [
    "Next, we will create a function to clean the texts."
   ]
  },
  {
   "cell_type": "code",
   "execution_count": 11,
   "id": "a7efa50e",
   "metadata": {},
   "outputs": [],
   "source": [
    "# importing libraries\n",
    "import re\n",
    "from sklearn.base import TransformerMixin"
   ]
  },
  {
   "cell_type": "code",
   "execution_count": 12,
   "id": "13bb00b5",
   "metadata": {
    "scrolled": false
   },
   "outputs": [
    {
     "name": "stdout",
     "output_type": "stream",
     "text": [
      "CPU times: user 10.2 ms, sys: 146 µs, total: 10.3 ms\n",
      "Wall time: 10.2 ms\n"
     ]
    },
    {
     "data": {
      "text/html": [
       "<div>\n",
       "<style scoped>\n",
       "    .dataframe tbody tr th:only-of-type {\n",
       "        vertical-align: middle;\n",
       "    }\n",
       "\n",
       "    .dataframe tbody tr th {\n",
       "        vertical-align: top;\n",
       "    }\n",
       "\n",
       "    .dataframe thead th {\n",
       "        text-align: right;\n",
       "    }\n",
       "</style>\n",
       "<table border=\"1\" class=\"dataframe\">\n",
       "  <thead>\n",
       "    <tr style=\"text-align: right;\">\n",
       "      <th></th>\n",
       "      <th>polarity</th>\n",
       "      <th>tweet</th>\n",
       "    </tr>\n",
       "  </thead>\n",
       "  <tbody>\n",
       "    <tr>\n",
       "      <th>0</th>\n",
       "      <td>0</td>\n",
       "      <td>oh no where did u order from that s horrible</td>\n",
       "    </tr>\n",
       "    <tr>\n",
       "      <th>1</th>\n",
       "      <td>0</td>\n",
       "      <td>a great hard training weekend is over a couple...</td>\n",
       "    </tr>\n",
       "    <tr>\n",
       "      <th>2</th>\n",
       "      <td>0</td>\n",
       "      <td>right off to work only 5 hours to go until i m...</td>\n",
       "    </tr>\n",
       "    <tr>\n",
       "      <th>3</th>\n",
       "      <td>0</td>\n",
       "      <td>i am craving for japanese food</td>\n",
       "    </tr>\n",
       "    <tr>\n",
       "      <th>4</th>\n",
       "      <td>0</td>\n",
       "      <td>jean michel jarre concert tomorrow gotta work ...</td>\n",
       "    </tr>\n",
       "  </tbody>\n",
       "</table>\n",
       "</div>"
      ],
      "text/plain": [
       "   polarity                                              tweet\n",
       "0         0       oh no where did u order from that s horrible\n",
       "1         0  a great hard training weekend is over a couple...\n",
       "2         0  right off to work only 5 hours to go until i m...\n",
       "3         0                     i am craving for japanese food\n",
       "4         0  jean michel jarre concert tomorrow gotta work ..."
      ]
     },
     "execution_count": 12,
     "metadata": {},
     "output_type": "execute_result"
    }
   ],
   "source": [
    "%%time\n",
    "# creating our transformer to clean the texts\n",
    "class features(TransformerMixin):\n",
    "    def transform(self, X, **transform_params):\n",
    "        \"\"\"Override the transform method to clean text\"\"\"\n",
    "        return [clean_text(text) for text in X]\n",
    "    \n",
    "    def fit(self, X, y= None, **fit_params):\n",
    "        return self\n",
    "    \n",
    "    def get_params(self, deep= True):\n",
    "        return {}\n",
    "\n",
    "# defining function to clean the text\n",
    "def clean_text(text):\n",
    "    \"\"\"Removing nan, @airline, punctuation, URL, or any non alpanumeric characters and converting the text into lowercase\"\"\"\n",
    "    # Remove nan, @airline, punctuation, URL, or any non alpanumeric characters and seperate word using a single space.\n",
    "    text = ' '.join(re.sub(\"(nan)|(@[A-Za-z0-9]+)|([^0-9A-Za-z \\t])|(\\w+:\\/\\/\\S+)\",\" \",text).split())\n",
    "    # remove all the leading and trailing spaces from a string and convert the text into lowercase\n",
    "    return text.strip().lower()   \n",
    "\n",
    "# applying the function to each row of the tweet column\n",
    "sentiment140_df['tweet'] = sentiment140_df['tweet'].apply(clean_text)\n",
    "\n",
    "# displaying the results\n",
    "sentiment140_df.head()"
   ]
  },
  {
   "cell_type": "markdown",
   "id": "055d6ed1",
   "metadata": {},
   "source": [
    "Now, we will split the data into training and test datasets (80-20 split)."
   ]
  },
  {
   "cell_type": "code",
   "execution_count": 13,
   "id": "1ff3a729",
   "metadata": {},
   "outputs": [],
   "source": [
    "# importing library\n",
    "from sklearn.model_selection import train_test_split"
   ]
  },
  {
   "cell_type": "code",
   "execution_count": 14,
   "id": "580b4c68",
   "metadata": {},
   "outputs": [
    {
     "name": "stdout",
     "output_type": "stream",
     "text": [
      "X_train dimension: (1600,); y_train dimension: (1600,)\n",
      "X_test dimension: (400,); y_train dimension: (400,)\n"
     ]
    }
   ],
   "source": [
    "# creating feature and label variables\n",
    "X = sentiment140_df['tweet']\n",
    "y = sentiment140_df['polarity']\n",
    "\n",
    "# splitting the data\n",
    "X_train, X_test, y_train, y_test = train_test_split(X, y, test_size = 0.2, random_state = 42, stratify = y)\n",
    "print(f'X_train dimension: {X_train.shape}; y_train dimension: {y_train.shape}')\n",
    "print(f'X_test dimension: {X_test.shape}; y_train dimension: {y_test.shape}')"
   ]
  },
  {
   "cell_type": "markdown",
   "id": "a620dd14",
   "metadata": {},
   "source": [
    "For the last step, we will create a function that performs tokenization and lemmatization on the tweets. This function will be implemented into our models later on."
   ]
  },
  {
   "cell_type": "code",
   "execution_count": 15,
   "id": "cbe716e6",
   "metadata": {},
   "outputs": [],
   "source": [
    "# importing libraries\n",
    "import string\n",
    "import spacy\n",
    "from spacy.lang.en import English\n",
    "from spacy.lang.en.stop_words import STOP_WORDS"
   ]
  },
  {
   "cell_type": "code",
   "execution_count": 16,
   "id": "133f3e82",
   "metadata": {},
   "outputs": [],
   "source": [
    "# loading the small model\n",
    "nlp = spacy.load(\"en_core_web_sm\")\n",
    "\n",
    "stop_words = spacy.lang.en.stop_words.STOP_WORDS\n",
    "\n",
    "# creating a tokenzer function from a given sentence\n",
    "def spacy_tokenizer(sentence):\n",
    "   \n",
    "    # Split the sentence into tokens/words\n",
    "    mytokens = nlp(sentence)\n",
    "    # Removing stop words and obtain the lemma\n",
    "    mytokens = [ word.lemma_ for word in mytokens if word not in stop_words]\n",
    "    return mytokens"
   ]
  },
  {
   "cell_type": "markdown",
   "id": "d3717794",
   "metadata": {},
   "source": [
    "## 3. Build the first model based on pipeline using the support vector machines."
   ]
  },
  {
   "cell_type": "markdown",
   "id": "9a32f46e",
   "metadata": {},
   "source": [
    "Now, we can create our first model using a simple pipeline:\n",
    "+ Cleaner: Our customized cleaner function.\n",
    "+ Vectorizer: A TfidfVectorizer containing our customized tokenizer, spacy_tokenizer.\n",
    "+ Classifier: A support vector classification (SVC) function."
   ]
  },
  {
   "cell_type": "code",
   "execution_count": 17,
   "id": "46042492",
   "metadata": {},
   "outputs": [],
   "source": [
    "# importing libraries\n",
    "from sklearn.feature_extraction.text import TfidfVectorizer\n",
    "from sklearn.pipeline import Pipeline\n",
    "from sklearn.svm import SVC\n",
    "from time import time"
   ]
  },
  {
   "cell_type": "code",
   "execution_count": 18,
   "id": "c6ccbfad",
   "metadata": {},
   "outputs": [
    {
     "name": "stdout",
     "output_type": "stream",
     "text": [
      "It takes about 6.6 seconds\n"
     ]
    }
   ],
   "source": [
    "# timing our codes\n",
    "t0 = time()\n",
    "\n",
    "# overriding the string tokenization step while preserving the preprocessing and n-grams generation steps\n",
    "# since we are using a customized tokenizer, the token_pattern parameter will be set to None\n",
    "tfidf_vector = TfidfVectorizer(tokenizer = spacy_tokenizer, ngram_range = (1,1), token_pattern=None)\n",
    "\n",
    "# creating a support vector classifier\n",
    "classifier = SVC()\n",
    "\n",
    "# creating a pipeline based on the cleaner, vectorizer and clasifier\n",
    "pipeline = Pipeline ([(\"cleaner\", features()),\n",
    "                 (\"vectorizer\", tfidf_vector),\n",
    "                 (\"classifier\", classifier)])\n",
    "\n",
    "# fitting the model\n",
    "pipeline.fit(X_train, y_train)\n",
    "\n",
    "# displaying codes' time\n",
    "print(f\"It takes about {time() - t0:.1f} seconds\")"
   ]
  },
  {
   "cell_type": "markdown",
   "id": "ac1631e3",
   "metadata": {},
   "source": [
    "## 4. Check the first model. Is it a good model based on the selected evaluation metrics? Please justify your answer."
   ]
  },
  {
   "cell_type": "markdown",
   "id": "c88cf9ce",
   "metadata": {},
   "source": [
    "Now, we will create a confusion matrix and classification report to assess the model's performance. Since we have a balanced dataset, we will use accuraracy as our primary metric for evalutation."
   ]
  },
  {
   "cell_type": "code",
   "execution_count": 19,
   "id": "e3107192",
   "metadata": {},
   "outputs": [],
   "source": [
    "# importing libraries\n",
    "import matplotlib.pyplot as plt\n",
    "from sklearn.metrics import confusion_matrix, ConfusionMatrixDisplay\n",
    "from sklearn.metrics import classification_report"
   ]
  },
  {
   "cell_type": "code",
   "execution_count": 20,
   "id": "ac2a15d1",
   "metadata": {
    "scrolled": true
   },
   "outputs": [
    {
     "name": "stdout",
     "output_type": "stream",
     "text": [
      "Confusion Matrix Without Normalization\n",
      "Normalized Confusion Matrix\n"
     ]
    },
    {
     "data": {
      "image/png": "[encoded data removed]",
      "text/plain": [
       "<Figure size 640x480 with 2 Axes>"
      ]
     },
     "metadata": {},
     "output_type": "display_data"
    },
    {
     "data": {
      "image/png": "[encoded data removed]",
      "text/plain": [
       "<Figure size 640x480 with 2 Axes>"
      ]
     },
     "metadata": {},
     "output_type": "display_data"
    }
   ],
   "source": [
    "# specifying the target names since the y is label encodes using 0 and 4\n",
    "target_names = ['negative', 'positive']\n",
    "\n",
    "# plotting non-normalized confusion matrix and normalized confusion matrix\n",
    "titles_options = [(\"Confusion Matrix Without Normalization\", None),\n",
    "                  (\"Normalized Confusion Matrix\", 'true')]\n",
    "# looping over the two cases of confusion matrix\n",
    "for title, normalize in titles_options:\n",
    "    disp = ConfusionMatrixDisplay.from_estimator(pipeline, X_test, y_test,\n",
    "                                 display_labels= target_names,\n",
    "                                 cmap=plt.cm.Blues, # matplotlib Colormap\n",
    "                                 # normalizes confusion matrix over the true (rows), predicted (columns) conditions or all the population\n",
    "                                 normalize=normalize)\n",
    "    print(title)\n",
    "\n",
    "plt.show()\n"
   ]
  },
  {
   "cell_type": "code",
   "execution_count": 21,
   "id": "90044baa",
   "metadata": {},
   "outputs": [
    {
     "name": "stdout",
     "output_type": "stream",
     "text": [
      "              precision    recall  f1-score   support\n",
      "\n",
      "    negative       0.72      0.76      0.74       200\n",
      "    positive       0.74      0.70      0.72       200\n",
      "\n",
      "    accuracy                           0.73       400\n",
      "   macro avg       0.73      0.73      0.73       400\n",
      "weighted avg       0.73      0.73      0.73       400\n",
      "\n"
     ]
    }
   ],
   "source": [
    "# creating classification report\n",
    "# predicting the test data\n",
    "y_pred = pipeline.predict(X_test)\n",
    "\n",
    "# printing out the report\n",
    "print(classification_report(y_test, y_pred, target_names = target_names))"
   ]
  },
  {
   "cell_type": "markdown",
   "id": "c1210c1a",
   "metadata": {},
   "source": [
    "The percentage of true positives and true negatives are 70% and 76% respectively, and the model's overall accuracy was 73%. While this better than guessing, there is room for improvement."
   ]
  },
  {
   "cell_type": "markdown",
   "id": "f9742318",
   "metadata": {},
   "source": [
    "## 5. Create the second model using pipeline, grid search CV for the hyperparameters for the estimators."
   ]
  },
  {
   "cell_type": "markdown",
   "id": "f0ff7224",
   "metadata": {},
   "source": [
    "We will create a second model using the same cleaner, vectorizer, and classifier; however, this time, we will include grid search CV to find the best hyperparameters for the estimators."
   ]
  },
  {
   "cell_type": "code",
   "execution_count": 22,
   "id": "52155c36",
   "metadata": {},
   "outputs": [],
   "source": [
    "# importing libraries\n",
    "from sklearn.feature_extraction.text import TfidfVectorizer\n",
    "from sklearn.model_selection import GridSearchCV\n",
    "from pprint import pprint"
   ]
  },
  {
   "cell_type": "code",
   "execution_count": 23,
   "id": "93469ec7",
   "metadata": {},
   "outputs": [
    {
     "name": "stdout",
     "output_type": "stream",
     "text": [
      "Performing grid search...\n",
      "The pipeline contains: ['cleaner', 'vectorizer', 'classifier']\n",
      "parameters are as follows:\n",
      "{'classifier__kernel': ['linear', 'rbf'],\n",
      " 'vectorizer__max_df': (0.5, 1.0),\n",
      " 'vectorizer__ngram_range': ((1, 1), (1, 2)),\n",
      " 'vectorizer__use_idf': (True, False)}\n",
      "Fitting 5 folds for each of 16 candidates, totalling 80 fits\n",
      "It takes about 551.4 seconds.\n",
      "\n",
      "Best score= 0.708\n",
      "Best parameters set:\n",
      "\tclassifier__kernel: 'linear'\n",
      "\tvectorizer__max_df: 1.0\n",
      "\tvectorizer__ngram_range: (1, 2)\n",
      "\tvectorizer__use_idf: True\n"
     ]
    }
   ],
   "source": [
    "# creating pipeline using cleaner, tf-idf and SVC\n",
    "pipeline = Pipeline ([(\"cleaner\", features()),\n",
    "                 (\"vectorizer\", TfidfVectorizer(tokenizer = spacy_tokenizer, token_pattern=None)),\n",
    "                 (\"classifier\", SVC())])\n",
    "\n",
    "# specifying the hyperparameters using dictionary based on the following format\n",
    "# estimator/transformerName__(double understore) corresponding parameter : potential parameter\n",
    "parameters = {\n",
    "    'vectorizer__max_df': (0.5, 1.0),\n",
    "    'vectorizer__ngram_range': ((1, 1), (1, 2)), #unigrams or bigrams\n",
    "    'vectorizer__use_idf': (True, False),\n",
    "    'classifier__kernel': ['linear', 'rbf']\n",
    "}\n",
    "\n",
    "# performing gridsearch CV\n",
    "grid_search = GridSearchCV(pipeline, parameters, n_jobs=None, verbose=1)\n",
    "print(\"Performing grid search...\")\n",
    "print(\"The pipeline contains:\", [name for name, _ in pipeline.steps])\n",
    "print(\"parameters are as follows:\")\n",
    "pprint(parameters)\n",
    "\n",
    "# timing the grid search\n",
    "t0 = time()\n",
    "grid_search.fit(X_train, y_train)\n",
    "print(f\"It takes about {time() - t0:.1f} seconds.\")\n",
    "print()\n",
    "\n",
    "# printing the best score and parameters\n",
    "print(f\"Best score= {grid_search.best_score_:0.3f}\")\n",
    "print(\"Best parameters set:\")\n",
    "best_parameters = grid_search.best_estimator_.get_params()\n",
    "for param_name in sorted(parameters.keys()):\n",
    "    # https://stackoverflow.com/questions/2354329/what-is-the-meaning-of-r\n",
    "    print(\"\\t%s: %r\" % (param_name, best_parameters[param_name]))"
   ]
  },
  {
   "cell_type": "markdown",
   "id": "7296f9f8",
   "metadata": {},
   "source": [
    "## 6. Tune the second model using the support vector machines and perform model diagnostics. Is it a good model? Please justify your answer."
   ]
  },
  {
   "cell_type": "markdown",
   "id": "713b931f",
   "metadata": {},
   "source": [
    "In the previous step, we already tuned the second model using grid search CV and found the best hyperparamers. Now, we will perform model diagnostics."
   ]
  },
  {
   "cell_type": "code",
   "execution_count": 24,
   "id": "37eb7ed2",
   "metadata": {},
   "outputs": [
    {
     "name": "stdout",
     "output_type": "stream",
     "text": [
      "Confusion Matrix Without Normalization\n",
      "Normalized Confusion Matrix\n"
     ]
    },
    {
     "data": {
      "image/png": "[encoded data removed]",
      "text/plain": [
       "<Figure size 640x480 with 2 Axes>"
      ]
     },
     "metadata": {},
     "output_type": "display_data"
    },
    {
     "data": {
      "image/png": "[encoded data removed]",
      "text/plain": [
       "<Figure size 640x480 with 2 Axes>"
      ]
     },
     "metadata": {},
     "output_type": "display_data"
    }
   ],
   "source": [
    "# plotting non-normalized confusion matrix and normalized confusion matrix\n",
    "titles_options = [(\"Confusion Matrix Without Normalization\", None),\n",
    "                  (\"Normalized Confusion Matrix\", 'true')]\n",
    "# looping over the two cases of confusion matrix\n",
    "for title, normalize in titles_options:\n",
    "    disp = ConfusionMatrixDisplay.from_estimator(grid_search, X_test, y_test,\n",
    "                                 display_labels= target_names,\n",
    "                                 cmap=plt.cm.Blues, # matplotlib Colormap\n",
    "                                 # normalizes confusion matrix over the true (rows), predicted (columns) conditions or all the population\n",
    "                                 normalize=normalize)\n",
    "    print(title)\n",
    "\n",
    "plt.show()"
   ]
  },
  {
   "cell_type": "code",
   "execution_count": 25,
   "id": "62793341",
   "metadata": {},
   "outputs": [
    {
     "name": "stdout",
     "output_type": "stream",
     "text": [
      "              precision    recall  f1-score   support\n",
      "\n",
      "    negative       0.68      0.75      0.71       200\n",
      "    positive       0.72      0.64      0.68       200\n",
      "\n",
      "    accuracy                           0.69       400\n",
      "   macro avg       0.70      0.70      0.69       400\n",
      "weighted avg       0.70      0.69      0.69       400\n",
      "\n"
     ]
    }
   ],
   "source": [
    "# creating classification report\n",
    "# predicting the test data\n",
    "y_pred = grid_search.predict(X_test)\n",
    "\n",
    "# printing out the report\n",
    "print(classification_report(y_test, y_pred, target_names = target_names))"
   ]
  },
  {
   "cell_type": "markdown",
   "id": "442dd68f",
   "metadata": {},
   "source": [
    "The percentage of true positives and true negatives are 64% and 75% respectively, and the model's overall accuracy was 69%. Compared to the previous model, the model's performance declined even though we used grid search CV to find the optimal hyperparameters. We could have yielded better results if we expanded the potential range of hyperparameters; however, doing so would have required more processing time. "
   ]
  },
  {
   "cell_type": "markdown",
   "id": "48664e5b",
   "metadata": {},
   "source": [
    "## 7. Build the third model using pipeline, grid search CV, hyperparameter for the following classifiers:Logistic regression, Support Vector Machine, and Random Forest"
   ]
  },
  {
   "cell_type": "markdown",
   "id": "da85d3eb",
   "metadata": {},
   "source": [
    "Next, we will build a third model using multiple classifiers: Logistic Regression, Support Vector Machine, and Random Forest. To begin, we need to define a estimator class to handle different classifiers."
   ]
  },
  {
   "cell_type": "code",
   "execution_count": 26,
   "id": "4f64f55c",
   "metadata": {},
   "outputs": [],
   "source": [
    "# importing libraries\n",
    "from sklearn.base import BaseEstimator\n",
    "from sklearn.linear_model import LogisticRegression\n",
    "from sklearn.ensemble import RandomForestClassifier"
   ]
  },
  {
   "cell_type": "code",
   "execution_count": 27,
   "id": "2843e9d0",
   "metadata": {},
   "outputs": [],
   "source": [
    "# defining the estimator class to handle different classifiers\n",
    "class ClfSwitcher(BaseEstimator):\n",
    "    # initializing the estimator\n",
    "    def __init__(\n",
    "        self, \n",
    "        estimator = None,\n",
    "    ):\n",
    "        \"\"\"\n",
    "        A Custom BaseEstimator that can switch between classifiers.\n",
    "        estimator is a class variable/attribute/property;\n",
    "        It is a machine learning algorithm/estimator.\n",
    "        You can find all available  classification estimators in sklearn at\n",
    "          https://scikit-learn.org/stable/tutorial/machine_learning_map/index.html\n",
    "        \"\"\" \n",
    "\n",
    "        self.estimator = estimator\n",
    "\n",
    "    # fitting the model using the given estimator\n",
    "    def fit(self, X, y=None, **kwargs):\n",
    "        self.estimator.fit(X, y)\n",
    "        return self\n",
    "\n",
    "    # predicting the label using the given estimator\n",
    "    def predict(self, X, y=None):\n",
    "        return self.estimator.predict(X)\n",
    "\n",
    "    # predicting the probability using the given estimator\n",
    "    def predict_proba(self, X):\n",
    "        return self.estimator.predict_proba(X)\n",
    "\n",
    "    # computing the score using the given estimator\n",
    "    def score(self, X, y):\n",
    "        return self.estimator.score(X, y)"
   ]
  },
  {
   "cell_type": "markdown",
   "id": "0d553363",
   "metadata": {},
   "source": [
    "Now we can tune and fit the model."
   ]
  },
  {
   "cell_type": "code",
   "execution_count": 28,
   "id": "f62211cd",
   "metadata": {},
   "outputs": [
    {
     "name": "stdout",
     "output_type": "stream",
     "text": [
      "Performing grid search...\n",
      "The pipeline contains: ['cleaner', 'vectorizer', 'classifier']\n",
      "parameters are as follows:\n",
      "[{'classifier__estimator': [SVC()],\n",
      "  'vectorizer__max_df': (0.5, 1.0),\n",
      "  'vectorizer__ngram_range': ((1, 1), (1, 2)),\n",
      "  'vectorizer__use_idf': (True, False)},\n",
      " {'classifier__estimator': [LogisticRegression()],\n",
      "  'vectorizer__max_df': (0.5, 1.0),\n",
      "  'vectorizer__ngram_range': ((1, 1), (1, 2)),\n",
      "  'vectorizer__use_idf': (True, False)},\n",
      " {'classifier__estimator': [RandomForestClassifier()],\n",
      "  'vectorizer__max_df': (0.5, 1.0),\n",
      "  'vectorizer__ngram_range': ((1, 1), (1, 2)),\n",
      "  'vectorizer__use_idf': (True, False)}]\n",
      "Fitting 5 folds for each of 24 candidates, totalling 120 fits\n",
      "[CV 1/5] END classifier__estimator=SVC(), vectorizer__max_df=0.5, vectorizer__ngram_range=(1, 1), vectorizer__use_idf=True;, score=0.703 total time=   6.6s\n",
      "[CV 2/5] END classifier__estimator=SVC(), vectorizer__max_df=0.5, vectorizer__ngram_range=(1, 1), vectorizer__use_idf=True;, score=0.684 total time=   7.2s\n",
      "[CV 3/5] END classifier__estimator=SVC(), vectorizer__max_df=0.5, vectorizer__ngram_range=(1, 1), vectorizer__use_idf=True;, score=0.681 total time=   6.8s\n",
      "[CV 4/5] END classifier__estimator=SVC(), vectorizer__max_df=0.5, vectorizer__ngram_range=(1, 1), vectorizer__use_idf=True;, score=0.694 total time=   6.7s\n",
      "[CV 5/5] END classifier__estimator=SVC(), vectorizer__max_df=0.5, vectorizer__ngram_range=(1, 1), vectorizer__use_idf=True;, score=0.688 total time=   7.1s\n",
      "[CV 1/5] END classifier__estimator=SVC(), vectorizer__max_df=0.5, vectorizer__ngram_range=(1, 1), vectorizer__use_idf=False;, score=0.697 total time=   7.0s\n",
      "[CV 2/5] END classifier__estimator=SVC(), vectorizer__max_df=0.5, vectorizer__ngram_range=(1, 1), vectorizer__use_idf=False;, score=0.678 total time=   6.4s\n",
      "[CV 3/5] END classifier__estimator=SVC(), vectorizer__max_df=0.5, vectorizer__ngram_range=(1, 1), vectorizer__use_idf=False;, score=0.650 total time=   7.2s\n",
      "[CV 4/5] END classifier__estimator=SVC(), vectorizer__max_df=0.5, vectorizer__ngram_range=(1, 1), vectorizer__use_idf=False;, score=0.716 total time=   6.4s\n",
      "[CV 5/5] END classifier__estimator=SVC(), vectorizer__max_df=0.5, vectorizer__ngram_range=(1, 1), vectorizer__use_idf=False;, score=0.675 total time=   7.2s\n",
      "[CV 1/5] END classifier__estimator=SVC(), vectorizer__max_df=0.5, vectorizer__ngram_range=(1, 2), vectorizer__use_idf=True;, score=0.716 total time=   7.4s\n",
      "[CV 2/5] END classifier__estimator=SVC(), vectorizer__max_df=0.5, vectorizer__ngram_range=(1, 2), vectorizer__use_idf=True;, score=0.703 total time=   7.2s\n",
      "[CV 3/5] END classifier__estimator=SVC(), vectorizer__max_df=0.5, vectorizer__ngram_range=(1, 2), vectorizer__use_idf=True;, score=0.659 total time=   7.3s\n",
      "[CV 4/5] END classifier__estimator=SVC(), vectorizer__max_df=0.5, vectorizer__ngram_range=(1, 2), vectorizer__use_idf=True;, score=0.688 total time=   7.0s\n",
      "[CV 5/5] END classifier__estimator=SVC(), vectorizer__max_df=0.5, vectorizer__ngram_range=(1, 2), vectorizer__use_idf=True;, score=0.684 total time=   7.0s\n",
      "[CV 1/5] END classifier__estimator=SVC(), vectorizer__max_df=0.5, vectorizer__ngram_range=(1, 2), vectorizer__use_idf=False;, score=0.691 total time=   7.1s\n",
      "[CV 2/5] END classifier__estimator=SVC(), vectorizer__max_df=0.5, vectorizer__ngram_range=(1, 2), vectorizer__use_idf=False;, score=0.688 total time=   6.9s\n",
      "[CV 3/5] END classifier__estimator=SVC(), vectorizer__max_df=0.5, vectorizer__ngram_range=(1, 2), vectorizer__use_idf=False;, score=0.628 total time=   7.0s\n",
      "[CV 4/5] END classifier__estimator=SVC(), vectorizer__max_df=0.5, vectorizer__ngram_range=(1, 2), vectorizer__use_idf=False;, score=0.697 total time=   6.8s\n",
      "[CV 5/5] END classifier__estimator=SVC(), vectorizer__max_df=0.5, vectorizer__ngram_range=(1, 2), vectorizer__use_idf=False;, score=0.691 total time=   6.8s\n",
      "[CV 1/5] END classifier__estimator=SVC(), vectorizer__max_df=1.0, vectorizer__ngram_range=(1, 1), vectorizer__use_idf=True;, score=0.703 total time=   7.0s\n",
      "[CV 2/5] END classifier__estimator=SVC(), vectorizer__max_df=1.0, vectorizer__ngram_range=(1, 1), vectorizer__use_idf=True;, score=0.684 total time=   7.0s\n",
      "[CV 3/5] END classifier__estimator=SVC(), vectorizer__max_df=1.0, vectorizer__ngram_range=(1, 1), vectorizer__use_idf=True;, score=0.681 total time=   7.2s\n",
      "[CV 4/5] END classifier__estimator=SVC(), vectorizer__max_df=1.0, vectorizer__ngram_range=(1, 1), vectorizer__use_idf=True;, score=0.716 total time=   6.9s\n",
      "[CV 5/5] END classifier__estimator=SVC(), vectorizer__max_df=1.0, vectorizer__ngram_range=(1, 1), vectorizer__use_idf=True;, score=0.688 total time=   7.1s\n",
      "[CV 1/5] END classifier__estimator=SVC(), vectorizer__max_df=1.0, vectorizer__ngram_range=(1, 1), vectorizer__use_idf=False;, score=0.697 total time=   7.3s\n",
      "[CV 2/5] END classifier__estimator=SVC(), vectorizer__max_df=1.0, vectorizer__ngram_range=(1, 1), vectorizer__use_idf=False;, score=0.678 total time=   6.6s\n",
      "[CV 3/5] END classifier__estimator=SVC(), vectorizer__max_df=1.0, vectorizer__ngram_range=(1, 1), vectorizer__use_idf=False;, score=0.650 total time=   7.2s\n",
      "[CV 4/5] END classifier__estimator=SVC(), vectorizer__max_df=1.0, vectorizer__ngram_range=(1, 1), vectorizer__use_idf=False;, score=0.691 total time=   6.9s\n",
      "[CV 5/5] END classifier__estimator=SVC(), vectorizer__max_df=1.0, vectorizer__ngram_range=(1, 1), vectorizer__use_idf=False;, score=0.675 total time=   6.9s\n",
      "[CV 1/5] END classifier__estimator=SVC(), vectorizer__max_df=1.0, vectorizer__ngram_range=(1, 2), vectorizer__use_idf=True;, score=0.716 total time=   7.0s\n",
      "[CV 2/5] END classifier__estimator=SVC(), vectorizer__max_df=1.0, vectorizer__ngram_range=(1, 2), vectorizer__use_idf=True;, score=0.703 total time=   6.8s\n",
      "[CV 3/5] END classifier__estimator=SVC(), vectorizer__max_df=1.0, vectorizer__ngram_range=(1, 2), vectorizer__use_idf=True;, score=0.659 total time=   7.2s\n",
      "[CV 4/5] END classifier__estimator=SVC(), vectorizer__max_df=1.0, vectorizer__ngram_range=(1, 2), vectorizer__use_idf=True;, score=0.713 total time=   6.6s\n",
      "[CV 5/5] END classifier__estimator=SVC(), vectorizer__max_df=1.0, vectorizer__ngram_range=(1, 2), vectorizer__use_idf=True;, score=0.684 total time=   6.9s\n",
      "[CV 1/5] END classifier__estimator=SVC(), vectorizer__max_df=1.0, vectorizer__ngram_range=(1, 2), vectorizer__use_idf=False;, score=0.691 total time=   6.8s\n",
      "[CV 2/5] END classifier__estimator=SVC(), vectorizer__max_df=1.0, vectorizer__ngram_range=(1, 2), vectorizer__use_idf=False;, score=0.688 total time=   7.2s\n",
      "[CV 3/5] END classifier__estimator=SVC(), vectorizer__max_df=1.0, vectorizer__ngram_range=(1, 2), vectorizer__use_idf=False;, score=0.628 total time=   7.2s\n",
      "[CV 4/5] END classifier__estimator=SVC(), vectorizer__max_df=1.0, vectorizer__ngram_range=(1, 2), vectorizer__use_idf=False;, score=0.694 total time=   6.8s\n",
      "[CV 5/5] END classifier__estimator=SVC(), vectorizer__max_df=1.0, vectorizer__ngram_range=(1, 2), vectorizer__use_idf=False;, score=0.691 total time=   6.8s\n",
      "[CV 1/5] END classifier__estimator=LogisticRegression(), vectorizer__max_df=0.5, vectorizer__ngram_range=(1, 1), vectorizer__use_idf=True;, score=0.703 total time=   6.9s\n",
      "[CV 2/5] END classifier__estimator=LogisticRegression(), vectorizer__max_df=0.5, vectorizer__ngram_range=(1, 1), vectorizer__use_idf=True;, score=0.678 total time=   7.0s\n",
      "[CV 3/5] END classifier__estimator=LogisticRegression(), vectorizer__max_df=0.5, vectorizer__ngram_range=(1, 1), vectorizer__use_idf=True;, score=0.681 total time=   7.1s\n",
      "[CV 4/5] END classifier__estimator=LogisticRegression(), vectorizer__max_df=0.5, vectorizer__ngram_range=(1, 1), vectorizer__use_idf=True;, score=0.688 total time=   6.8s\n",
      "[CV 5/5] END classifier__estimator=LogisticRegression(), vectorizer__max_df=0.5, vectorizer__ngram_range=(1, 1), vectorizer__use_idf=True;, score=0.691 total time=   7.0s\n",
      "[CV 1/5] END classifier__estimator=LogisticRegression(), vectorizer__max_df=0.5, vectorizer__ngram_range=(1, 1), vectorizer__use_idf=False;, score=0.697 total time=   6.6s\n",
      "[CV 2/5] END classifier__estimator=LogisticRegression(), vectorizer__max_df=0.5, vectorizer__ngram_range=(1, 1), vectorizer__use_idf=False;, score=0.653 total time=   6.8s\n",
      "[CV 3/5] END classifier__estimator=LogisticRegression(), vectorizer__max_df=0.5, vectorizer__ngram_range=(1, 1), vectorizer__use_idf=False;, score=0.644 total time=   7.1s\n"
     ]
    },
    {
     "name": "stdout",
     "output_type": "stream",
     "text": [
      "[CV 4/5] END classifier__estimator=LogisticRegression(), vectorizer__max_df=0.5, vectorizer__ngram_range=(1, 1), vectorizer__use_idf=False;, score=0.691 total time=   6.8s\n",
      "[CV 5/5] END classifier__estimator=LogisticRegression(), vectorizer__max_df=0.5, vectorizer__ngram_range=(1, 1), vectorizer__use_idf=False;, score=0.684 total time=   7.0s\n",
      "[CV 1/5] END classifier__estimator=LogisticRegression(), vectorizer__max_df=0.5, vectorizer__ngram_range=(1, 2), vectorizer__use_idf=True;, score=0.731 total time=   6.8s\n",
      "[CV 2/5] END classifier__estimator=LogisticRegression(), vectorizer__max_df=0.5, vectorizer__ngram_range=(1, 2), vectorizer__use_idf=True;, score=0.700 total time=   7.1s\n",
      "[CV 3/5] END classifier__estimator=LogisticRegression(), vectorizer__max_df=0.5, vectorizer__ngram_range=(1, 2), vectorizer__use_idf=True;, score=0.653 total time=   7.2s\n",
      "[CV 4/5] END classifier__estimator=LogisticRegression(), vectorizer__max_df=0.5, vectorizer__ngram_range=(1, 2), vectorizer__use_idf=True;, score=0.684 total time=   7.3s\n",
      "[CV 5/5] END classifier__estimator=LogisticRegression(), vectorizer__max_df=0.5, vectorizer__ngram_range=(1, 2), vectorizer__use_idf=True;, score=0.694 total time=   7.1s\n",
      "[CV 1/5] END classifier__estimator=LogisticRegression(), vectorizer__max_df=0.5, vectorizer__ngram_range=(1, 2), vectorizer__use_idf=False;, score=0.688 total time=   7.1s\n",
      "[CV 2/5] END classifier__estimator=LogisticRegression(), vectorizer__max_df=0.5, vectorizer__ngram_range=(1, 2), vectorizer__use_idf=False;, score=0.678 total time=   7.0s\n",
      "[CV 3/5] END classifier__estimator=LogisticRegression(), vectorizer__max_df=0.5, vectorizer__ngram_range=(1, 2), vectorizer__use_idf=False;, score=0.622 total time=   7.1s\n",
      "[CV 4/5] END classifier__estimator=LogisticRegression(), vectorizer__max_df=0.5, vectorizer__ngram_range=(1, 2), vectorizer__use_idf=False;, score=0.688 total time=   7.3s\n",
      "[CV 5/5] END classifier__estimator=LogisticRegression(), vectorizer__max_df=0.5, vectorizer__ngram_range=(1, 2), vectorizer__use_idf=False;, score=0.684 total time=   6.7s\n",
      "[CV 1/5] END classifier__estimator=LogisticRegression(), vectorizer__max_df=1.0, vectorizer__ngram_range=(1, 1), vectorizer__use_idf=True;, score=0.703 total time=   6.9s\n",
      "[CV 2/5] END classifier__estimator=LogisticRegression(), vectorizer__max_df=1.0, vectorizer__ngram_range=(1, 1), vectorizer__use_idf=True;, score=0.678 total time=   6.6s\n",
      "[CV 3/5] END classifier__estimator=LogisticRegression(), vectorizer__max_df=1.0, vectorizer__ngram_range=(1, 1), vectorizer__use_idf=True;, score=0.681 total time=   7.0s\n",
      "[CV 4/5] END classifier__estimator=LogisticRegression(), vectorizer__max_df=1.0, vectorizer__ngram_range=(1, 1), vectorizer__use_idf=True;, score=0.694 total time=   6.2s\n",
      "[CV 5/5] END classifier__estimator=LogisticRegression(), vectorizer__max_df=1.0, vectorizer__ngram_range=(1, 1), vectorizer__use_idf=True;, score=0.691 total time=   7.0s\n",
      "[CV 1/5] END classifier__estimator=LogisticRegression(), vectorizer__max_df=1.0, vectorizer__ngram_range=(1, 1), vectorizer__use_idf=False;, score=0.697 total time=   7.1s\n",
      "[CV 2/5] END classifier__estimator=LogisticRegression(), vectorizer__max_df=1.0, vectorizer__ngram_range=(1, 1), vectorizer__use_idf=False;, score=0.653 total time=   7.0s\n",
      "[CV 3/5] END classifier__estimator=LogisticRegression(), vectorizer__max_df=1.0, vectorizer__ngram_range=(1, 1), vectorizer__use_idf=False;, score=0.644 total time=   7.4s\n",
      "[CV 4/5] END classifier__estimator=LogisticRegression(), vectorizer__max_df=1.0, vectorizer__ngram_range=(1, 1), vectorizer__use_idf=False;, score=0.684 total time=   7.0s\n",
      "[CV 5/5] END classifier__estimator=LogisticRegression(), vectorizer__max_df=1.0, vectorizer__ngram_range=(1, 1), vectorizer__use_idf=False;, score=0.684 total time=   6.7s\n",
      "[CV 1/5] END classifier__estimator=LogisticRegression(), vectorizer__max_df=1.0, vectorizer__ngram_range=(1, 2), vectorizer__use_idf=True;, score=0.731 total time=   7.1s\n",
      "[CV 2/5] END classifier__estimator=LogisticRegression(), vectorizer__max_df=1.0, vectorizer__ngram_range=(1, 2), vectorizer__use_idf=True;, score=0.700 total time=   6.3s\n",
      "[CV 3/5] END classifier__estimator=LogisticRegression(), vectorizer__max_df=1.0, vectorizer__ngram_range=(1, 2), vectorizer__use_idf=True;, score=0.653 total time=   7.3s\n",
      "[CV 4/5] END classifier__estimator=LogisticRegression(), vectorizer__max_df=1.0, vectorizer__ngram_range=(1, 2), vectorizer__use_idf=True;, score=0.706 total time=   7.0s\n",
      "[CV 5/5] END classifier__estimator=LogisticRegression(), vectorizer__max_df=1.0, vectorizer__ngram_range=(1, 2), vectorizer__use_idf=True;, score=0.694 total time=   7.2s\n",
      "[CV 1/5] END classifier__estimator=LogisticRegression(), vectorizer__max_df=1.0, vectorizer__ngram_range=(1, 2), vectorizer__use_idf=False;, score=0.688 total time=   6.9s\n",
      "[CV 2/5] END classifier__estimator=LogisticRegression(), vectorizer__max_df=1.0, vectorizer__ngram_range=(1, 2), vectorizer__use_idf=False;, score=0.678 total time=   6.9s\n",
      "[CV 3/5] END classifier__estimator=LogisticRegression(), vectorizer__max_df=1.0, vectorizer__ngram_range=(1, 2), vectorizer__use_idf=False;, score=0.622 total time=   6.6s\n",
      "[CV 4/5] END classifier__estimator=LogisticRegression(), vectorizer__max_df=1.0, vectorizer__ngram_range=(1, 2), vectorizer__use_idf=False;, score=0.684 total time=   6.9s\n",
      "[CV 5/5] END classifier__estimator=LogisticRegression(), vectorizer__max_df=1.0, vectorizer__ngram_range=(1, 2), vectorizer__use_idf=False;, score=0.684 total time=   7.2s\n",
      "[CV 1/5] END classifier__estimator=RandomForestClassifier(), vectorizer__max_df=0.5, vectorizer__ngram_range=(1, 1), vectorizer__use_idf=True;, score=0.672 total time=   6.8s\n",
      "[CV 2/5] END classifier__estimator=RandomForestClassifier(), vectorizer__max_df=0.5, vectorizer__ngram_range=(1, 1), vectorizer__use_idf=True;, score=0.688 total time=   6.9s\n",
      "[CV 3/5] END classifier__estimator=RandomForestClassifier(), vectorizer__max_df=0.5, vectorizer__ngram_range=(1, 1), vectorizer__use_idf=True;, score=0.650 total time=   6.9s\n",
      "[CV 4/5] END classifier__estimator=RandomForestClassifier(), vectorizer__max_df=0.5, vectorizer__ngram_range=(1, 1), vectorizer__use_idf=True;, score=0.700 total time=   7.4s\n",
      "[CV 5/5] END classifier__estimator=RandomForestClassifier(), vectorizer__max_df=0.5, vectorizer__ngram_range=(1, 1), vectorizer__use_idf=True;, score=0.691 total time=   6.5s\n",
      "[CV 1/5] END classifier__estimator=RandomForestClassifier(), vectorizer__max_df=0.5, vectorizer__ngram_range=(1, 1), vectorizer__use_idf=False;, score=0.666 total time=   6.9s\n",
      "[CV 2/5] END classifier__estimator=RandomForestClassifier(), vectorizer__max_df=0.5, vectorizer__ngram_range=(1, 1), vectorizer__use_idf=False;, score=0.700 total time=   7.2s\n",
      "[CV 3/5] END classifier__estimator=RandomForestClassifier(), vectorizer__max_df=0.5, vectorizer__ngram_range=(1, 1), vectorizer__use_idf=False;, score=0.631 total time=   6.9s\n",
      "[CV 4/5] END classifier__estimator=RandomForestClassifier(), vectorizer__max_df=0.5, vectorizer__ngram_range=(1, 1), vectorizer__use_idf=False;, score=0.709 total time=   6.9s\n",
      "[CV 5/5] END classifier__estimator=RandomForestClassifier(), vectorizer__max_df=0.5, vectorizer__ngram_range=(1, 1), vectorizer__use_idf=False;, score=0.691 total time=   7.1s\n",
      "[CV 1/5] END classifier__estimator=RandomForestClassifier(), vectorizer__max_df=0.5, vectorizer__ngram_range=(1, 2), vectorizer__use_idf=True;, score=0.697 total time=   7.5s\n",
      "[CV 2/5] END classifier__estimator=RandomForestClassifier(), vectorizer__max_df=0.5, vectorizer__ngram_range=(1, 2), vectorizer__use_idf=True;, score=0.697 total time=   7.6s\n",
      "[CV 3/5] END classifier__estimator=RandomForestClassifier(), vectorizer__max_df=0.5, vectorizer__ngram_range=(1, 2), vectorizer__use_idf=True;, score=0.609 total time=   7.6s\n",
      "[CV 4/5] END classifier__estimator=RandomForestClassifier(), vectorizer__max_df=0.5, vectorizer__ngram_range=(1, 2), vectorizer__use_idf=True;, score=0.688 total time=   7.0s\n",
      "[CV 5/5] END classifier__estimator=RandomForestClassifier(), vectorizer__max_df=0.5, vectorizer__ngram_range=(1, 2), vectorizer__use_idf=True;, score=0.669 total time=   7.1s\n",
      "[CV 1/5] END classifier__estimator=RandomForestClassifier(), vectorizer__max_df=0.5, vectorizer__ngram_range=(1, 2), vectorizer__use_idf=False;, score=0.675 total time=   7.7s\n"
     ]
    },
    {
     "name": "stdout",
     "output_type": "stream",
     "text": [
      "[CV 2/5] END classifier__estimator=RandomForestClassifier(), vectorizer__max_df=0.5, vectorizer__ngram_range=(1, 2), vectorizer__use_idf=False;, score=0.697 total time=   7.3s\n",
      "[CV 3/5] END classifier__estimator=RandomForestClassifier(), vectorizer__max_df=0.5, vectorizer__ngram_range=(1, 2), vectorizer__use_idf=False;, score=0.641 total time=   7.2s\n",
      "[CV 4/5] END classifier__estimator=RandomForestClassifier(), vectorizer__max_df=0.5, vectorizer__ngram_range=(1, 2), vectorizer__use_idf=False;, score=0.656 total time=   7.0s\n",
      "[CV 5/5] END classifier__estimator=RandomForestClassifier(), vectorizer__max_df=0.5, vectorizer__ngram_range=(1, 2), vectorizer__use_idf=False;, score=0.688 total time=   7.5s\n",
      "[CV 1/5] END classifier__estimator=RandomForestClassifier(), vectorizer__max_df=1.0, vectorizer__ngram_range=(1, 1), vectorizer__use_idf=True;, score=0.669 total time=   6.5s\n",
      "[CV 2/5] END classifier__estimator=RandomForestClassifier(), vectorizer__max_df=1.0, vectorizer__ngram_range=(1, 1), vectorizer__use_idf=True;, score=0.700 total time=   7.2s\n",
      "[CV 3/5] END classifier__estimator=RandomForestClassifier(), vectorizer__max_df=1.0, vectorizer__ngram_range=(1, 1), vectorizer__use_idf=True;, score=0.650 total time=   7.5s\n",
      "[CV 4/5] END classifier__estimator=RandomForestClassifier(), vectorizer__max_df=1.0, vectorizer__ngram_range=(1, 1), vectorizer__use_idf=True;, score=0.700 total time=   7.2s\n",
      "[CV 5/5] END classifier__estimator=RandomForestClassifier(), vectorizer__max_df=1.0, vectorizer__ngram_range=(1, 1), vectorizer__use_idf=True;, score=0.669 total time=   7.2s\n",
      "[CV 1/5] END classifier__estimator=RandomForestClassifier(), vectorizer__max_df=1.0, vectorizer__ngram_range=(1, 1), vectorizer__use_idf=False;, score=0.675 total time=   6.4s\n",
      "[CV 2/5] END classifier__estimator=RandomForestClassifier(), vectorizer__max_df=1.0, vectorizer__ngram_range=(1, 1), vectorizer__use_idf=False;, score=0.700 total time=   7.4s\n",
      "[CV 3/5] END classifier__estimator=RandomForestClassifier(), vectorizer__max_df=1.0, vectorizer__ngram_range=(1, 1), vectorizer__use_idf=False;, score=0.650 total time=   7.3s\n",
      "[CV 4/5] END classifier__estimator=RandomForestClassifier(), vectorizer__max_df=1.0, vectorizer__ngram_range=(1, 1), vectorizer__use_idf=False;, score=0.684 total time=   7.2s\n",
      "[CV 5/5] END classifier__estimator=RandomForestClassifier(), vectorizer__max_df=1.0, vectorizer__ngram_range=(1, 1), vectorizer__use_idf=False;, score=0.700 total time=   7.2s\n",
      "[CV 1/5] END classifier__estimator=RandomForestClassifier(), vectorizer__max_df=1.0, vectorizer__ngram_range=(1, 2), vectorizer__use_idf=True;, score=0.681 total time=   7.9s\n",
      "[CV 2/5] END classifier__estimator=RandomForestClassifier(), vectorizer__max_df=1.0, vectorizer__ngram_range=(1, 2), vectorizer__use_idf=True;, score=0.697 total time=   7.3s\n",
      "[CV 3/5] END classifier__estimator=RandomForestClassifier(), vectorizer__max_df=1.0, vectorizer__ngram_range=(1, 2), vectorizer__use_idf=True;, score=0.631 total time=   7.6s\n",
      "[CV 4/5] END classifier__estimator=RandomForestClassifier(), vectorizer__max_df=1.0, vectorizer__ngram_range=(1, 2), vectorizer__use_idf=True;, score=0.681 total time=   7.4s\n",
      "[CV 5/5] END classifier__estimator=RandomForestClassifier(), vectorizer__max_df=1.0, vectorizer__ngram_range=(1, 2), vectorizer__use_idf=True;, score=0.691 total time=   7.0s\n",
      "[CV 1/5] END classifier__estimator=RandomForestClassifier(), vectorizer__max_df=1.0, vectorizer__ngram_range=(1, 2), vectorizer__use_idf=False;, score=0.672 total time=   6.8s\n",
      "[CV 2/5] END classifier__estimator=RandomForestClassifier(), vectorizer__max_df=1.0, vectorizer__ngram_range=(1, 2), vectorizer__use_idf=False;, score=0.688 total time=   7.6s\n",
      "[CV 3/5] END classifier__estimator=RandomForestClassifier(), vectorizer__max_df=1.0, vectorizer__ngram_range=(1, 2), vectorizer__use_idf=False;, score=0.641 total time=   7.4s\n",
      "[CV 4/5] END classifier__estimator=RandomForestClassifier(), vectorizer__max_df=1.0, vectorizer__ngram_range=(1, 2), vectorizer__use_idf=False;, score=0.656 total time=   7.2s\n",
      "[CV 5/5] END classifier__estimator=RandomForestClassifier(), vectorizer__max_df=1.0, vectorizer__ngram_range=(1, 2), vectorizer__use_idf=False;, score=0.703 total time=   7.3s\n",
      "It takes about 851.246 seconds\n",
      "Best score= 0.697\n",
      "All potential classifiers:\n",
      "['SVC()', 'LogisticRegression()', 'RandomForestClassifier()']\n",
      "Best parameters set:\n",
      "\tclassifier__estimator: LogisticRegression()\n",
      "\tvectorizer__max_df: 1.0\n",
      "\tvectorizer__ngram_range: (1, 2)\n",
      "\tvectorizer__use_idf: True\n"
     ]
    }
   ],
   "source": [
    "# creating the pipeline of cleaner, tfidf and classifier to be specified by ClfSwitcher\n",
    "# token_pattern=None because we have a custom tokenizer\n",
    "pipeline = Pipeline ([(\"cleaner\", features()),\n",
    "                 (\"vectorizer\", TfidfVectorizer(tokenizer = spacy_tokenizer, token_pattern=None)),\n",
    "                 (\"classifier\", ClfSwitcher())])\n",
    "\n",
    "# creating the hyperparameters using the following format\n",
    "# For the cleaner and vectorizer:\n",
    "# Estimator/transformer name__(double understore) corresponding parameter : potential parameter\n",
    "# The classifier handling different classifiers has three levels\n",
    "# classifier__estimator__corresponding parameter : potential parameter\n",
    "parameters = [\n",
    "    {\n",
    "        'vectorizer__max_df': (0.5, 1.0),\n",
    "        'vectorizer__ngram_range': ((1, 1), (1, 2)), #unigrams or bigrams\n",
    "        'vectorizer__use_idf': (True, False),\n",
    "        'classifier__estimator': [SVC()], \n",
    "    },\n",
    "    {\n",
    "        'vectorizer__max_df': (0.5, 1.0),\n",
    "        'vectorizer__ngram_range': ((1, 1), (1, 2)),  # unigrams or bigrams\n",
    "        'vectorizer__use_idf': (True, False),\n",
    "        'classifier__estimator': [LogisticRegression()], \n",
    "    },\n",
    "    {\n",
    "        'vectorizer__max_df': (0.5, 1.0),\n",
    "        'vectorizer__ngram_range': ((1, 1), (1, 2)),  # unigrams or bigrams\n",
    "        'vectorizer__use_idf': (True, False),\n",
    "        'classifier__estimator': [RandomForestClassifier()]\n",
    "    },\n",
    "]\n",
    "\n",
    "# performing the grid search\n",
    "print(\"Performing grid search...\")\n",
    "print(\"The pipeline contains:\", [name for name, _ in pipeline.steps])\n",
    "print(\"parameters are as follows:\")\n",
    "pprint(parameters)\n",
    "\n",
    "# timing grid search\n",
    "t0 = time()\n",
    "gscv = GridSearchCV(pipeline, parameters, cv=5, n_jobs= None, return_train_score=False, verbose=3)\n",
    "gscv.fit(X_train, y_train)\n",
    "print(f\"It takes about {time() - t0:.3f} seconds\")\n",
    "\n",
    "# printing the best parameters and score\n",
    "print(f\"Best score= {gscv.best_score_:0.3f}\")\n",
    "best_parameters = gscv.best_estimator_.get_params()\n",
    "\n",
    "# looping over the parameters and get all potential algorithms in the pipeline\n",
    "all_classifiers =[]\n",
    "for parameter in parameters:\n",
    "    all_classifiers.append(parameter['classifier__estimator'])\n",
    "all_classifiers = [str(alg) for clf in all_classifiers for alg in clf]\n",
    "print(\"All potential classifiers:\")\n",
    "pprint(all_classifiers)\n",
    "\n",
    "# finding the location/index of the optimal classifier\n",
    "idx = all_classifiers.index(str(best_parameters['classifier__estimator']))\n",
    "print(\"Best parameters set:\")\n",
    "for param_name in sorted(parameters[idx].keys()):\n",
    "    # https://stackoverflow.com/questions/2354329/what-is-the-meaning-of-r\n",
    "    print(\"\\t%s: %r\" % (param_name, best_parameters[param_name]))"
   ]
  },
  {
   "cell_type": "markdown",
   "id": "3d4c4090",
   "metadata": {},
   "source": [
    "## 8. Tune the third model and perform model diagnostics. Is it a good model? Please justify your answer."
   ]
  },
  {
   "cell_type": "markdown",
   "id": "eea8e0f7",
   "metadata": {},
   "source": [
    "As seen in the previous question, we already tuned the models using grid search CV. Now, we will evaluate the models based on accuracy from the confusion matrices and classification reports. "
   ]
  },
  {
   "cell_type": "code",
   "execution_count": 29,
   "id": "1ef440ba",
   "metadata": {},
   "outputs": [],
   "source": [
    "# importing libraries\n",
    "import seaborn as sns\n",
    "import matplotlib.pyplot as plt\n",
    "import numpy as np"
   ]
  },
  {
   "cell_type": "code",
   "execution_count": 30,
   "id": "ba37d2ff",
   "metadata": {},
   "outputs": [
    {
     "data": {
      "image/png": "[encoded data removed]",
      "text/plain": [
       "<Figure size 640x480 with 2 Axes>"
      ]
     },
     "metadata": {},
     "output_type": "display_data"
    },
    {
     "data": {
      "image/png": "[encoded data removed]",
      "text/plain": [
       "<Figure size 640x480 with 2 Axes>"
      ]
     },
     "metadata": {},
     "output_type": "display_data"
    }
   ],
   "source": [
    "# predicting the labels of the test dataset\n",
    "y_pred = gscv.predict(X_test)\n",
    "# creating the confusion matrix\n",
    "cm = confusion_matrix(y_test, y_pred)\n",
    "# plotting the heatmap of the confusion matrix without normalization\n",
    "ax = plt.axes()\n",
    "# https://seaborn.pydata.org/generated/seaborn.heatmap.html\n",
    "sns.heatmap(cm, annot=True, fmt = 'd', xticklabels = target_names, yticklabels = target_names, cmap=\"YlGnBu\")\n",
    "ax.set_title(\"Confusion matrix, without normalization\")\n",
    "plt.show()\n",
    "\n",
    "# normalizing the confusion matrix\n",
    "cm = cm / cm.astype(np.float64).sum(axis=1)[:,None]\n",
    "# plotting the heatmap of the normalized confusion matrix\n",
    "ax = plt.axes()\n",
    "# https://seaborn.pydata.org/generated/seaborn.heatmap.html\n",
    "sns.heatmap(cm, annot=True, fmt = '.2f', xticklabels = target_names, yticklabels = target_names, cmap=\"YlGnBu\")\n",
    "ax.set_title(\"Normalized confusion matrix\")\n",
    "plt.show()"
   ]
  },
  {
   "cell_type": "code",
   "execution_count": 31,
   "id": "fb8cf6cc",
   "metadata": {},
   "outputs": [
    {
     "name": "stdout",
     "output_type": "stream",
     "text": [
      "              precision    recall  f1-score   support\n",
      "\n",
      "    negative       0.69      0.76      0.72       200\n",
      "    positive       0.73      0.66      0.69       200\n",
      "\n",
      "    accuracy                           0.71       400\n",
      "   macro avg       0.71      0.71      0.71       400\n",
      "weighted avg       0.71      0.71      0.71       400\n",
      "\n"
     ]
    }
   ],
   "source": [
    "# displaying the classification report\n",
    "print(classification_report(y_test, y_pred, target_names = target_names))"
   ]
  },
  {
   "cell_type": "markdown",
   "id": "dd4b1954",
   "metadata": {},
   "source": [
    "The percentage of true positives and true negatives are 66% and 76% respectively, and the model's overall accuracy was 71%. Compared to the previous model, the model's performance slightly."
   ]
  },
  {
   "cell_type": "markdown",
   "id": "5dcd0396",
   "metadata": {},
   "source": [
    "## Conclusion"
   ]
  },
  {
   "cell_type": "markdown",
   "id": "adb16bac",
   "metadata": {},
   "source": [
    "We created three models to forecast the polarity of the tweets from the sentiment140 dataset. The overall accuracies of the models are as follows:\n",
    "+ Model 1 = 73%\n",
    "+ Model 2 = 69%\n",
    "+ Model 3 = 71%\n",
    "\n",
    "We determined that the best model was the first model, which contained the SVC classifier w/default parameters. It is important to note that the percentages are approximately the same (~70%), and they all have room for improvement. To enhance future models' performances, further analysis would be required to determine the best parameters. As for now, we would recommend Model 1 to the consulting firm."
   ]
  }
 ],
 "metadata": {
  "kernelspec": {
   "display_name": "Python 3 (ipykernel)",
   "language": "python",
   "name": "python3"
  },
  "language_info": {
   "codemirror_mode": {
    "name": "ipython",
    "version": 3
   },
   "file_extension": ".py",
   "mimetype": "text/x-python",
   "name": "python",
   "nbconvert_exporter": "python",
   "pygments_lexer": "ipython3",
   "version": "3.11.4"
  }
 },
 "nbformat": 4,
 "nbformat_minor": 5
}
